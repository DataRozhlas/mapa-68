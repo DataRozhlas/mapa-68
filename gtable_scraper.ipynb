{
 "cells": [
  {
   "cell_type": "code",
   "execution_count": 23,
   "metadata": {
    "collapsed": true
   },
   "outputs": [],
   "source": [
    "import requests\n",
    "import csv\n",
    "import json\n",
    "import boto3"
   ]
  },
  {
   "cell_type": "code",
   "execution_count": 14,
   "metadata": {},
   "outputs": [],
   "source": [
    "url = 'https://docs.google.com/spreadsheets/d/e/2PACX-1vTn43g2nBVuq8VSf2R5QaFBRVJYNOcBRUaBtS2ElpOLItzln_ByZIVrcDWulKsHE5jMynZfvjTG45GU/pub?gid=0&single=true&output=csv'"
   ]
  },
  {
   "cell_type": "code",
   "execution_count": 34,
   "metadata": {},
   "outputs": [],
   "source": [
    "r = requests.get(url)\n",
    "r.encoding = 'utf-8'\n",
    "fle = csv.reader(r.text.splitlines(), delimiter=',')"
   ]
  },
  {
   "cell_type": "code",
   "execution_count": 36,
   "metadata": {},
   "outputs": [],
   "source": [
    "f = []\n",
    "for row in fle:\n",
    "    f.append(row) "
   ]
  },
  {
   "cell_type": "code",
   "execution_count": 40,
   "metadata": {},
   "outputs": [],
   "source": [
    "out = []\n",
    "for row in f[1:]:\n",
    "    out.append(dict(zip(f[0], row)))"
   ]
  },
  {
   "cell_type": "code",
   "execution_count": 43,
   "metadata": {},
   "outputs": [
    {
     "data": {
      "text/plain": [
       "'var data = [{\"Titulek\": \"\\\\\"M\\\\u011bl jsem strach, jak to m\\\\u016f\\\\u017ee skon\\\\u010dit.\\\\\"\", \"Popis\": \"Vladim\\\\u00edr Mikul\\\\u00e1\\\\u0161 byl jako mlad\\\\u00fd policista p\\\\u0159ivezen k budov\\\\u011b \\\\u010ceskoslovensk\\\\u00e9ho rozhlasu 21. srpna 1968. C\\\\u00edtil strach a tak\\\\u00e9 si p\\\\u0159\\\\u00e1l, aby to skon\\\\u010dilo.\", \"Link\": \"https://1968.rozhlas.cz/mel-jsem-strach-jak-muze-skoncit-vzpomina-v-mikulas-jako-policista-pomahal-21-6202038\", \"Lokace\": \"50.07867, 14.43436\"}, {\"Titulek\": \"Z rozhlasu vys\\\\u00edl\\\\u00e1 V\\\\u00e1clav Havel\", \"Popis\": \"Do krizov\\\\u00e9ho vys\\\\u00edl\\\\u00e1n\\\\u00ed v okupa\\\\u010dn\\\\u00edm t\\\\u00fddnu se zapojila v\\\\u0161echna studia. Z libereck\\\\u00e9ho b\\\\u011bhem okupace vys\\\\u00edlali V\\\\u00e1clav Havel a Jan T\\\\u0159\\\\u00edska. V Liberci tehdy byli na n\\\\u00e1v\\\\u0161t\\\\u011bv\\\\u011b u p\\\\u0159\\\\u00e1tel.\", \"Link\": \"https://1968.rozhlas.cz/srpen-68-pod-jestedem-z-libereckeho-rozhlasu-promlouval-k-lidem-vaclav-havel-6017826\", \"Lokace\": \"50.77573, 15.08363\"}, {\"Titulek\": \"Slovy p\\\\u0159inutil k \\\\u00fastupu sov\\\\u011btsk\\\\u00fd tank\", \"Popis\": \"Filozof a disident Julius Tomin vy\\\\u0161el do ulic okupovan\\\\u00e9 Prahy na popud \\\\u010ceskoslovensk\\\\u00e9ho rozhlasu.\", \"Link\": \"https://1968.rozhlas.cz/slovy-prinutil-k-ustupu-sovetsky-tank-a-okupacniho-vojaka-k-omluve-6512985\", \"Lokace\": \"50.093, 14.417\"}, {\"Titulek\": \"Vys\\\\u00edl\\\\u00e1n\\\\u00ed \\\\u0161tvav\\\\u00e9 vys\\\\u00edla\\\\u010dky Vltavy\", \"Popis\": \"\\\\u0160patn\\\\u00e1 \\\\u010de\\\\u0161tina a anonymn\\\\u00ed hlasatel\\\\u00e9. Svou vlast\\\\u00ed pravdu \\\\u0161\\\\u00ed\\\\u0159ila z N\\\\u011bmecka\", \"Link\": \"https://1968.rozhlas.cz/spatna-cestina-a-anonymni-hlasatele-vysilacka-vltava-sirila-v-srpnu-1968-bludy-5958683\", \"Lokace\": \"51.05036, 13.53633\"}, {\"Titulek\": \"Setk\\\\u00e1n\\\\u00ed v \\\\u010ciern\\\\u00e9 nad Tisou\", \"Popis\": \"Setk\\\\u00e1n\\\\u00ed v \\\\u010ciern\\\\u00e9 nad Tisou za\\\\u010dalo 29. \\\\u010dervence 1968. \\\\u010ceskosloven\\\\u0161t\\\\u00ed komunist\\\\u00e9 po t\\\\u0159ech dnech v\\\\u011b\\\\u0159ili, \\\\u017ee se jim poda\\\\u0159ilo Bre\\\\u017en\\\\u011bva p\\\\u0159esv\\\\u011bd\\\\u010dit, \\\\u017ee je socialismus s lidskou tv\\\\u00e1\\\\u0159\\\\u00ed spr\\\\u00e1vn\\\\u00e1 cesta.\", \"Link\": \"https://1968.rozhlas.cz/slovensko-68-7573252/3\", \"Lokace\": \"48.41624, 22.08915\"}, {\"Titulek\": \"S hol\\\\u00fdma rukama proti tanku\", \"Popis\": \"Jmenoval se Jozef Lev\\\\u00e1k, bylo mu 38 a z\\\\u016fstala po n\\\\u011bm \\\\u017eena a \\\\u010dty\\\\u0159i d\\\\u011bti. 21. srpna 1968 si klekl p\\\\u0159ed sov\\\\u011btsk\\\\u00fd tank a zem\\\\u0159el pod jeho p\\\\u00e1sy.\", \"Link\": \"https://1968.rozhlas.cz/slovensko-68-7573252/2\", \"Lokace\": \"48.57618, 19.13711\"}, {\"Titulek\": \"Za okupaci se pomstili Rusce\", \"Popis\": \"Vyd\\\\u011b\\\\u0161en\\\\u00e1 a nah\\\\u00e1 \\\\u017eena, post\\\\u0159\\\\u00edkan\\\\u00e1 \\\\u010dervenou barvou, b\\\\u011b\\\\u017e\\\\u00ed Hlavn\\\\u00ed ulic\\\\u00ed v Ko\\\\u0161ic\\\\u00edch a za n\\\\u00ed rozzu\\\\u0159en\\\\u00fd dav. P\\\\u00ed\\\\u0161e se 23. srpen 1968 a \\\\u017eena je man\\\\u017eelkou slovensk\\\\u00e9ho d\\\\u016fstojn\\\\u00edka.\", \"Link\": \"https://1968.rozhlas.cz/slovensko-68-7573252/5\", \"Lokace\": \"48.71638, 21.26107\"}, {\"Titulek\": \"Hranici obsazuje i opil\\\\u00fd Ma\\\\u010far\", \"Popis\": \"Na jihu Slovenska rozum\\\\u011bli okupant\\\\u016fm \\\\u00fapln\\\\u011b v\\\\u0161ichni. Oblast toti\\\\u017e obsadila ma\\\\u010farsk\\\\u00e1 arm\\\\u00e1da a jeden opil\\\\u00fd d\\\\u016fstojn\\\\u00edk. \", \"Link\": \"https://1968.rozhlas.cz/slovensko-68-7573252/4\", \"Lokace\": \"48.0692, 18.94871\"}, {\"Titulek\": \"Davaj fotopljonku\", \"Popis\": \"Na fotografa Jarom\\\\u00edra Proch\\\\u00e1zku jen kousek od jeho domu voj\\\\u00e1ci m\\\\u00ed\\\\u0159ili samopaly. Sov\\\\u011bt\\\\u016fm se toti\\\\u017e nel\\\\u00edbilo, \\\\u017ee si je fot\\\\u00ed.\", \"Link\": \"https://1968.rozhlas.cz/davaj-fotopljonku-slysel-fotograf-prochazka-v-roce-1968-samopaly-mu-mirily-na-7252412\", \"Lokace\": \"49.97084, 15.32461\"}, {\"Titulek\": \"Ohromuj\\\\u00edc\\\\u00ed solidarita i v p\\\\u0159\\\\u00edpad\\\\u011b ohro\\\\u017een\\\\u00ed\", \"Popis\": \"Irena a Lubo\\\\u0161 Holoubkovi ve \\\\u017d\\\\u010f\\\\u00e1\\\\u0159e pom\\\\u00e1hali zprovoznit tzv. rozhlas po dr\\\\u00e1t\\\\u011b, kter\\\\u00fd m\\\\u011bl zaji\\\\u0161\\\\u0165ovat vys\\\\u00edl\\\\u00e1n\\\\u00ed v p\\\\u0159\\\\u00edpad\\\\u011b ohro\\\\u017een\\\\u00ed \\\\u010ceskoslovenska. A to se v srpnu 1968 skute\\\\u010dn\\\\u011b stalo.\", \"Link\": \"https://1968.rozhlas.cz/solidarita-lidi-byla-ohromujici-vzpomina-na-zdarsky-srpen-68-irena-holoubkova-7130660\", \"Lokace\": \"49.56418, 15.9394\"}];'"
      ]
     },
     "execution_count": 43,
     "metadata": {},
     "output_type": "execute_result"
    }
   ],
   "source": [
    "'var data = ' + json.dumps(out) + ';'"
   ]
  }
 ],
 "metadata": {
  "kernelspec": {
   "display_name": "Python 3",
   "language": "python",
   "name": "python3"
  },
  "language_info": {
   "codemirror_mode": {
    "name": "ipython",
    "version": 3
   },
   "file_extension": ".py",
   "mimetype": "text/x-python",
   "name": "python",
   "nbconvert_exporter": "python",
   "pygments_lexer": "ipython3",
   "version": "3.6.5"
  }
 },
 "nbformat": 4,
 "nbformat_minor": 2
}
