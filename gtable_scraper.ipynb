{
 "cells": [
  {
   "cell_type": "code",
   "execution_count": 46,
   "metadata": {
    "collapsed": true
   },
   "outputs": [],
   "source": [
    "import requests\n",
    "import csv\n",
    "import json\n",
    "import boto3\n",
    "import time"
   ]
  },
  {
   "cell_type": "code",
   "execution_count": 14,
   "metadata": {},
   "outputs": [],
   "source": [
    "url = 'https://docs.google.com/spreadsheets/d/e/2PACX-1vTn43g2nBVuq8VSf2R5QaFBRVJYNOcBRUaBtS2ElpOLItzln_ByZIVrcDWulKsHE5jMynZfvjTG45GU/pub?gid=0&single=true&output=csv'"
   ]
  },
  {
   "cell_type": "code",
   "execution_count": 34,
   "metadata": {},
   "outputs": [],
   "source": [
    "r = requests.get(url)\n",
    "r.encoding = 'utf-8'\n",
    "fle = csv.reader(r.text.splitlines(), delimiter=',')"
   ]
  },
  {
   "cell_type": "code",
   "execution_count": 36,
   "metadata": {},
   "outputs": [],
   "source": [
    "f = []\n",
    "for row in fle:\n",
    "    f.append(row) "
   ]
  },
  {
   "cell_type": "code",
   "execution_count": 40,
   "metadata": {},
   "outputs": [],
   "source": [
    "out = []\n",
    "for row in f[1:]:\n",
    "    out.append(dict(zip(f[0], row)))"
   ]
  },
  {
   "cell_type": "code",
   "execution_count": 44,
   "metadata": {},
   "outputs": [
    {
     "data": {
      "text/plain": [
       "{'ETag': '\"0d727eb8c62c51396311ab0192b212fc\"',\n",
       " 'ResponseMetadata': {'HTTPHeaders': {'content-length': '0',\n",
       "   'date': 'Mon, 13 Aug 2018 13:56:49 GMT',\n",
       "   'etag': '\"0d727eb8c62c51396311ab0192b212fc\"',\n",
       "   'server': 'AmazonS3',\n",
       "   'x-amz-id-2': 'dlGVAyqEC8Th1nziY2cg0aOwgr2+wNxIpeu+8exLzVzrpzu0/Ah6qj7UXEiKAg4xbIVcET25lg8=',\n",
       "   'x-amz-request-id': '87EED868EEFC8204'},\n",
       "  'HTTPStatusCode': 200,\n",
       "  'HostId': 'dlGVAyqEC8Th1nziY2cg0aOwgr2+wNxIpeu+8exLzVzrpzu0/Ah6qj7UXEiKAg4xbIVcET25lg8=',\n",
       "  'RequestId': '87EED868EEFC8204',\n",
       "  'RetryAttempts': 0}}"
      ]
     },
     "execution_count": 44,
     "metadata": {},
     "output_type": "execute_result"
    }
   ],
   "source": [
    "s3 = boto3.resource('s3')\n",
    "bucket = s3.Object('datarozhlas', 'mapa-68/map_data.js')\n",
    "bucket.put(Body='var data = ' + json.dumps(out) + ';',\n",
    "           ACL='public-read', \n",
    "           ContentType='application/javascript', \n",
    "           ContentEncoding='utf-8')"
   ]
  },
  {
   "cell_type": "code",
   "execution_count": 47,
   "metadata": {},
   "outputs": [
    {
     "data": {
      "text/plain": [
       "{'Invalidation': {'CreateTime': datetime.datetime(2018, 8, 13, 14, 1, 28, 716000, tzinfo=tzutc()),\n",
       "  'Id': 'I2SNE6NEGNG6U4',\n",
       "  'InvalidationBatch': {'CallerReference': '1534168889.1354344',\n",
       "   'Paths': {'Items': ['/mapa-68/map_data.js'], 'Quantity': 1}},\n",
       "  'Status': 'InProgress'},\n",
       " 'Location': 'https://cloudfront.amazonaws.com/2017-03-25/distribution/E3ABKG4QXPTL3P/invalidation/I2SNE6NEGNG6U4',\n",
       " 'ResponseMetadata': {'HTTPHeaders': {'content-length': '383',\n",
       "   'content-type': 'text/xml',\n",
       "   'date': 'Mon, 13 Aug 2018 14:01:27 GMT',\n",
       "   'location': 'https://cloudfront.amazonaws.com/2017-03-25/distribution/E3ABKG4QXPTL3P/invalidation/I2SNE6NEGNG6U4',\n",
       "   'x-amzn-requestid': '5fd9c0e4-9f01-11e8-9ed7-81130bc7f0dd'},\n",
       "  'HTTPStatusCode': 201,\n",
       "  'RequestId': '5fd9c0e4-9f01-11e8-9ed7-81130bc7f0dd',\n",
       "  'RetryAttempts': 0}}"
      ]
     },
     "execution_count": 47,
     "metadata": {},
     "output_type": "execute_result"
    }
   ],
   "source": [
    "cfront = boto3.client('cloudfront')\n",
    "cf_dist = 'E3ABKG4QXPTL3P'\n",
    "\n",
    "cfront.create_invalidation(DistributionId=cf_dist, InvalidationBatch={\n",
    "                'Paths': {\n",
    "                    'Quantity': 1,\n",
    "                    'Items': ['/mapa-68/map_data.js']\n",
    "                },\n",
    "    'CallerReference': str(time.time())\n",
    "})"
   ]
  }
 ],
 "metadata": {
  "kernelspec": {
   "display_name": "Python 3",
   "language": "python",
   "name": "python3"
  },
  "language_info": {
   "codemirror_mode": {
    "name": "ipython",
    "version": 3
   },
   "file_extension": ".py",
   "mimetype": "text/x-python",
   "name": "python",
   "nbconvert_exporter": "python",
   "pygments_lexer": "ipython3",
   "version": "3.6.5"
  }
 },
 "nbformat": 4,
 "nbformat_minor": 2
}
